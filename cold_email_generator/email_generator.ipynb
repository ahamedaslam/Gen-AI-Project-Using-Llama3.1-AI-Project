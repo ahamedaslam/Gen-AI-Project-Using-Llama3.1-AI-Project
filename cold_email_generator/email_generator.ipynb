{
 "cells": [
  {
   "cell_type": "code",
   "execution_count": 6,
   "id": "26edd8f0",
   "metadata": {},
   "outputs": [
    {
     "name": "stdout",
     "output_type": "stream",
     "text": [
      "I can be a powerful tool in the right hands. Here are some examples of what I can do:\n",
      "\n",
      "1. **Answer questions**: I can process natural language queries and provide relevant answers, covering a wide range of topics from science and history to entertainment and culture.\n",
      "2. **Generate text**: I can create human-like text based on a prompt, topic, or style. This can be useful for writing articles, creating chatbot responses, or even composing emails.\n",
      "3. **Translate languages**: I can translate text from one language to another, including popular languages such as Spanish, French, German, Chinese, and many more.\n",
      "4. **Summarize content**: I can summarize long pieces of text into concise, bite-sized versions, highlighting key points and main ideas.\n",
      "5. **Offer suggestions**: I can suggest potential solutions to problems, offer ideas for creative projects, or even provide gift ideas based on interests and preferences.\n",
      "6. **Chat and converse**: I can engage in natural-sounding conversations, using context and understanding to respond to questions and statements.\n",
      "7. **Play games**: I can play simple text-based games, such as Hangman, 20 Questions, or Word Jumble.\n",
      "8. **Provide definitions**: I can define words and phrases, explaining their meanings and usage.\n",
      "9. **Generate creative content**: I can create poetry, short stories, or even entire scripts based on prompts or ideas.\n",
      "10. **Learn and improve**: I can learn from feedback and adapt to new topics and tasks over time.\n",
      "\n",
      "However, my power has limitations. I'm a machine learning model, so I'm not perfect and can make mistakes. Here are some areas where I may struggle:\n",
      "\n",
      "1. **Common sense**: While I can understand natural language, I may not always have the same level of common sense or real-world experience as a human.\n",
      "2. **Emotional intelligence**: I'm not capable of experiencing emotions or empathy, so I may not always be able to understand the emotional nuances of a situation.\n",
      "3. **Domain-specific knowledge**: While I have a broad range of knowledge, I may not always have the same level of expertise as a specialist in a particular field.\n",
      "4. **Handling ambiguity**: I can struggle with ambiguous or unclear language, so I may ask for clarification or provide multiple possible answers.\n",
      "5. **Dealing with sarcasm and humor**: I can have difficulty understanding sarcasm or humor, so I may not always be able to respond in kind.\n",
      "\n",
      "Overall, I'm a powerful tool that can provide a wide range of benefits, but I'm not perfect and should be used in conjunction with human judgment and oversight.\n"
     ]
    }
   ],
   "source": [
    "from langchain_groq import ChatGroq\n",
    "\n",
    "llm = ChatGroq(\n",
    "    temperature=0,\n",
    "    model_name=\"llama-3.1-70b-versatile\",\n",
    "    api_key=\"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\"  # Pass api_key directly\n",
    ")\n",
    "response = llm.invoke(\"how powerful are u?\")\n",
    "print(response.content)\n"
   ]
  },
  {
   "cell_type": "code",
   "execution_count": 27,
   "id": "6c952462",
   "metadata": {},
   "outputs": [
    {
     "name": "stdout",
     "output_type": "stream",
     "text": [
      "Apply for Software Engineer I\n",
      "\n",
      "Search JobsSkip navigationSearch JobsNIKE, INC. JOBSContract JobsJoin The Talent CommunityLife @ NikeOverviewBenefitsBrandsOverviewJordanConverseTeamsOverviewAdministrative SupportAdvanced InnovationAir Manufacturing InnovationAviationCommunicationsCustomer ServiceDesignDigitalFacilitiesFinance & AccountingGovernment & Public AffairsHuman ResourcesInsights & AnalyticsLegalManufacturing & EngineeringMarketingMerchandisingPlanningPrivacyProcurementProduct Creation, Development & ManagementRetail CorporateRetail StoresSalesSocial & Community ImpactSports MarketingStrategic PlanningSupply Chain, Distribution & LogisticsSustainabilityTechnologyLocationsOverviewNike WHQNike New York HQEHQ: Hilversum, The NetherlandsELC: Laakdal, BelgiumGreater China HQDiversity, Equity & InclusionOverviewMilitary InclusionDisability InclusionIndigenous InclusionInternshipsTechnologySoftware Engineer IBeaverton, OregonBecome a Part of the NIKE, Inc. TeamNIKE, Inc. does more than outfit the world’s best athletes. It is a place to explore potential, obliterate boundaries and push out the edges of what can be. The company looks for people who can grow, think, dream and create. Its culture thrives by embracing diversity and rewarding imagination. The brand seeks achievers, leaders and visionaries. At NIKE, Inc. it’s about each person bringing skills and passion to a challenging and constantly evolving game.NIKE is a technology company. From our flagship website and five-star mobile apps to developing products, managing big data and providing leading edge engineering and systems support, our teams at NIKE Global Technology exist to revolutionize the future at the confluence of tech and sport. We invest and develop advances in technology and employ the most creative people in the world, and then give them the support to constantly innovate, iterate and serve consumers more directly and personally.  Our teams are innovative, diverse, multidisciplinary and collaborative, taking technology into the future and bringing the world with it.Digital Employee Experience Software Engineer IBeaverton, Oregon United StatesWHO WE ARE LOOKING FORThe Digital Employee Experience Software Engineer I will be responsible for design, support, development, and testing of internal employee-facing websites and web applications.WHAT YOU WILL WORK ONDesign and develop technical solutions that meet the needs of the business and aligns with Nike architectural and quality standardsBuild mobile first Front-End applications in a manner visually and culturally consistent with Nike brand using React.js and Redux.Ensure SLAs (Service Level Agreements) for different interfaces are met and test them by executing performance tests using various loads.Provide production support on new and existing applications WHO YOU WILL WORK WITHAs a Software Engineer I You will be working closely with our communication business team and multiple engineering squads to solve a wide range of business and technology related problems, and you will be reporting under Digital Employee Experience Software Engineering Director.WHAT YOU BRINGBachelor’s degree in computer science, Information Systems, Business, or other relevant subject area2+ years of professional experience in application engineering2+ years hands-on experience in JavaScript (Node.js, React.js, Vue.js, etc.)Passionate about engineering, operational excellence, DevOps maturity and enabling the team and dependent teams to diagnose and tackle production issues quicklyFamiliar with agile processes, continuous integration, and test automationAbility to Collaborate on road maps with Product Managers, Architects, and Tech Leads to ensure feasibility and scalability of new features and enhancementsExperience with AWS CloudFront for content delivery and cachingKnowledge of AWS S3 for static website hosting and asset storageFamiliarity with AWS Route 53 for DNS management and understanding of AWS Certificate ManagerProficiency in AWS LambdaExperience with GitHub Co-pilot is an advantageNIKE, Inc. is a growth company that looks for team members to grow with it. Nike offers a generous total rewards package, casual work environment, a diverse and inclusive culture, and an electric atmosphere for professional development. No matter the location, or the role, every Nike employee shares one galvanizing mission: To bring inspiration and innovation to every athlete* in the world.NIKE, Inc. is committed to employing a diverse workforce. Qualified applicants will receive consideration without regard to race, color, religion, sex, national origin, age, sexual orientation, gender identity, gender expression, veteran status, or disability.How We HireAt NIKE, Inc. we promise to provide a premium, inclusive, compelling and authentic candidate experience. Delivering on this promise means we allow you to be at your best — and to do that, you need to understand how the hiring process works. Transparency is key.\r\n",
      "\r\n",
      "* This overview explains our hiring process for corporate roles. Note there may be different hiring steps involved for non-corporate roles.Start nowBenefitsWhether it’s transportation or financial health, we continually invest in our employees to help them achieve greatness — inside and outside of work. All who work here should be able to realize their full potential.Employee Assistance ProgramEmployee Stock Purchase Plan (ESPP)HolidaysMedical PlanPaid Time Off (PTO)Product DiscountsSabbaticalsLearn moreFIND A STOREBECOME A MEMBERSIGN UP FOR EMAILSEND US FEEDBACKSTUDENT DISCOUNTSGET HELPGET HELPOrder StatusDeliveryReturnsPayment OptionsContact Us On Nike.com InquiriesContact Us On All Other InquiriesABOUT NIKEABOUT NIKENewsCareersInvestorsSustainabilityIndia© 2024 Nike, Inc. All Rights ReservedGuidesNike AdaptNike Air MaxNike FlyleatherNike PegasusNike Zoom FlyNike AirNike FlyEaseNike FreeNike ReactNike ZoomXNike Air Force 1Nike FlyknitNike JoyrideNike VaporflyTerms of SaleTerms of UseNike Privacy Policy\n"
     ]
    }
   ],
   "source": [
    "import os\n",
    "from langchain_community.document_loaders import WebBaseLoader\n",
    "\n",
    "# Set a custom User-Agent to identify your requests\n",
    "os.environ[\"USER_AGENT\"] = \"Mozilla/5.0 (Windows NT 10.0; Win64; x64) AppleWebKit/537.36 (KHTML, like Gecko) Chrome/58.0.3029.110 Safari/537.36\"\n",
    "\n",
    "# Initialize the WebBaseLoader\n",
    "loader = WebBaseLoader(\"https://jobs.nike.com/job/R-38844?from=job%20search%20funnel\")\n",
    "\n",
    "# Load the data and retrieve the page content\n",
    "page_data = loader.load().pop().page_content\n",
    "print(page_data)\n"
   ]
  },
  {
   "cell_type": "code",
   "execution_count": 4,
   "id": "fd65d7ab",
   "metadata": {},
   "outputs": [
    {
     "name": "stdout",
     "output_type": "stream",
     "text": [
      "Collecting langchain-community\n",
      "  Downloading langchain_community-0.3.1-py3-none-any.whl (2.4 MB)\n",
      "Collecting numpy<2,>=1\n",
      "  Downloading numpy-1.26.4-cp39-cp39-win_amd64.whl (15.8 MB)\n",
      "Requirement already satisfied: langsmith<0.2.0,>=0.1.125 in c:\\users\\ahame\\anaconda3\\lib\\site-packages (from langchain-community) (0.1.129)\n",
      "Requirement already satisfied: requests<3,>=2 in c:\\users\\ahame\\anaconda3\\lib\\site-packages (from langchain-community) (2.26.0)\n",
      "Requirement already satisfied: PyYAML>=5.3 in c:\\users\\ahame\\anaconda3\\lib\\site-packages (from langchain-community) (6.0)\n",
      "Collecting dataclasses-json<0.7,>=0.5.7\n",
      "  Downloading dataclasses_json-0.6.7-py3-none-any.whl (28 kB)\n",
      "Collecting langchain<0.4.0,>=0.3.1\n",
      "  Downloading langchain-0.3.1-py3-none-any.whl (1.0 MB)\n",
      "Requirement already satisfied: tenacity!=8.4.0,<9.0.0,>=8.1.0 in c:\\users\\ahame\\anaconda3\\lib\\site-packages (from langchain-community) (8.5.0)\n",
      "Collecting aiohttp<4.0.0,>=3.8.3\n",
      "  Downloading aiohttp-3.10.8-cp39-cp39-win_amd64.whl (381 kB)\n",
      "Requirement already satisfied: SQLAlchemy<3,>=1.4 in c:\\users\\ahame\\anaconda3\\lib\\site-packages (from langchain-community) (1.4.22)\n",
      "Requirement already satisfied: langchain-core<0.4.0,>=0.3.6 in c:\\users\\ahame\\anaconda3\\lib\\site-packages (from langchain-community) (0.3.6)\n",
      "Collecting pydantic-settings<3.0.0,>=2.4.0\n",
      "  Downloading pydantic_settings-2.5.2-py3-none-any.whl (26 kB)\n",
      "Collecting aiosignal>=1.1.2\n",
      "  Using cached aiosignal-1.3.1-py3-none-any.whl (7.6 kB)\n",
      "Collecting multidict<7.0,>=4.5\n",
      "  Downloading multidict-6.1.0-cp39-cp39-win_amd64.whl (28 kB)\n",
      "Requirement already satisfied: attrs>=17.3.0 in c:\\users\\ahame\\anaconda3\\lib\\site-packages (from aiohttp<4.0.0,>=3.8.3->langchain-community) (21.2.0)\n",
      "Collecting yarl<2.0,>=1.12.0\n",
      "  Downloading yarl-1.13.1-cp39-cp39-win_amd64.whl (112 kB)\n",
      "Collecting async-timeout<5.0,>=4.0\n",
      "  Downloading async_timeout-4.0.3-py3-none-any.whl (5.7 kB)\n",
      "Collecting aiohappyeyeballs>=2.3.0\n",
      "  Downloading aiohappyeyeballs-2.4.2-py3-none-any.whl (14 kB)\n",
      "Collecting frozenlist>=1.1.1\n",
      "  Downloading frozenlist-1.4.1-cp39-cp39-win_amd64.whl (50 kB)\n",
      "Collecting typing-inspect<1,>=0.4.0\n",
      "  Downloading typing_inspect-0.9.0-py3-none-any.whl (8.8 kB)\n",
      "Collecting marshmallow<4.0.0,>=3.18.0\n",
      "  Downloading marshmallow-3.22.0-py3-none-any.whl (49 kB)Note: you may need to restart the kernel to use updated packages.\n",
      "Collecting langchain-text-splitters<0.4.0,>=0.3.0\n",
      "  Downloading langchain_text_splitters-0.3.0-py3-none-any.whl (25 kB)\n",
      "\n"
     ]
    },
    {
     "name": "stderr",
     "output_type": "stream",
     "text": [
      "ERROR: Could not install packages due to an OSError: [WinError 5] Access is denied: 'C:\\\\Users\\\\ahame\\\\anaconda3\\\\Lib\\\\site-packages\\\\~umpy.libs\\\\libscipy_openblas64_-caad452230ae4ddb57899b8b3a33c55c.dll'\n",
      "Consider using the `--user` option or check the permissions.\n",
      "\n"
     ]
    },
    {
     "name": "stdout",
     "output_type": "stream",
     "text": [
      "Requirement already satisfied: pydantic<3.0.0,>=2.7.4 in c:\\users\\ahame\\anaconda3\\lib\\site-packages (from langchain<0.4.0,>=0.3.1->langchain-community) (2.9.2)\n",
      "Requirement already satisfied: packaging<25,>=23.2 in c:\\users\\ahame\\anaconda3\\lib\\site-packages (from langchain-core<0.4.0,>=0.3.6->langchain-community) (24.1)\n",
      "Requirement already satisfied: typing-extensions>=4.7 in c:\\users\\ahame\\anaconda3\\lib\\site-packages (from langchain-core<0.4.0,>=0.3.6->langchain-community) (4.12.2)\n",
      "Requirement already satisfied: jsonpatch<2.0,>=1.33 in c:\\users\\ahame\\anaconda3\\lib\\site-packages (from langchain-core<0.4.0,>=0.3.6->langchain-community) (1.33)\n",
      "Requirement already satisfied: jsonpointer>=1.9 in c:\\users\\ahame\\anaconda3\\lib\\site-packages (from jsonpatch<2.0,>=1.33->langchain-core<0.4.0,>=0.3.6->langchain-community) (3.0.0)\n",
      "Requirement already satisfied: httpx<1,>=0.23.0 in c:\\users\\ahame\\anaconda3\\lib\\site-packages (from langsmith<0.2.0,>=0.1.125->langchain-community) (0.27.2)\n",
      "Requirement already satisfied: orjson<4.0.0,>=3.9.14 in c:\\users\\ahame\\anaconda3\\lib\\site-packages (from langsmith<0.2.0,>=0.1.125->langchain-community) (3.10.7)\n",
      "Requirement already satisfied: httpcore==1.* in c:\\users\\ahame\\anaconda3\\lib\\site-packages (from httpx<1,>=0.23.0->langsmith<0.2.0,>=0.1.125->langchain-community) (1.0.5)\n",
      "Requirement already satisfied: anyio in c:\\users\\ahame\\anaconda3\\lib\\site-packages (from httpx<1,>=0.23.0->langsmith<0.2.0,>=0.1.125->langchain-community) (4.6.0)\n",
      "Requirement already satisfied: certifi in c:\\users\\ahame\\anaconda3\\lib\\site-packages (from httpx<1,>=0.23.0->langsmith<0.2.0,>=0.1.125->langchain-community) (2021.10.8)\n",
      "Requirement already satisfied: sniffio in c:\\users\\ahame\\anaconda3\\lib\\site-packages (from httpx<1,>=0.23.0->langsmith<0.2.0,>=0.1.125->langchain-community) (1.2.0)\n",
      "Requirement already satisfied: idna in c:\\users\\ahame\\anaconda3\\lib\\site-packages (from httpx<1,>=0.23.0->langsmith<0.2.0,>=0.1.125->langchain-community) (3.2)\n",
      "Requirement already satisfied: h11<0.15,>=0.13 in c:\\users\\ahame\\anaconda3\\lib\\site-packages (from httpcore==1.*->httpx<1,>=0.23.0->langsmith<0.2.0,>=0.1.125->langchain-community) (0.14.0)\n",
      "Requirement already satisfied: annotated-types>=0.6.0 in c:\\users\\ahame\\anaconda3\\lib\\site-packages (from pydantic<3.0.0,>=2.7.4->langchain<0.4.0,>=0.3.1->langchain-community) (0.7.0)\n",
      "Requirement already satisfied: pydantic-core==2.23.4 in c:\\users\\ahame\\anaconda3\\lib\\site-packages (from pydantic<3.0.0,>=2.7.4->langchain<0.4.0,>=0.3.1->langchain-community) (2.23.4)\n",
      "Requirement already satisfied: python-dotenv>=0.21.0 in c:\\users\\ahame\\anaconda3\\lib\\site-packages (from pydantic-settings<3.0.0,>=2.4.0->langchain-community) (1.0.1)\n",
      "Requirement already satisfied: urllib3<1.27,>=1.21.1 in c:\\users\\ahame\\anaconda3\\lib\\site-packages (from requests<3,>=2->langchain-community) (1.26.7)\n",
      "Requirement already satisfied: charset-normalizer~=2.0.0 in c:\\users\\ahame\\anaconda3\\lib\\site-packages (from requests<3,>=2->langchain-community) (2.0.4)\n",
      "Requirement already satisfied: greenlet!=0.4.17 in c:\\users\\ahame\\anaconda3\\lib\\site-packages (from SQLAlchemy<3,>=1.4->langchain-community) (1.1.1)\n",
      "Requirement already satisfied: mypy-extensions>=0.3.0 in c:\\users\\ahame\\anaconda3\\lib\\site-packages (from typing-inspect<1,>=0.4.0->dataclasses-json<0.7,>=0.5.7->langchain-community) (0.4.3)\n",
      "Requirement already satisfied: exceptiongroup>=1.0.2 in c:\\users\\ahame\\anaconda3\\lib\\site-packages (from anyio->httpx<1,>=0.23.0->langsmith<0.2.0,>=0.1.125->langchain-community) (1.2.2)\n",
      "Installing collected packages: multidict, frozenlist, yarl, async-timeout, aiosignal, aiohappyeyeballs, typing-inspect, numpy, marshmallow, langchain-text-splitters, aiohttp, pydantic-settings, langchain, dataclasses-json, langchain-community\n",
      "  Attempting uninstall: numpy\n",
      "    Found existing installation: numpy 2.0.2\n",
      "    Uninstalling numpy-2.0.2:\n",
      "      Successfully uninstalled numpy-2.0.2\n"
     ]
    }
   ],
   "source": [
    "pip install langchain-community"
   ]
  },
  {
   "cell_type": "code",
   "execution_count": 1,
   "id": "837a351d",
   "metadata": {},
   "outputs": [
    {
     "name": "stdout",
     "output_type": "stream",
     "text": [
      "Requirement already satisfied: langchain-community in c:\\users\\ahame\\appdata\\roaming\\python\\python39\\site-packages (0.3.1)\n",
      "Requirement already satisfied: langchain-core<0.4.0,>=0.3.6 in c:\\users\\ahame\\anaconda3\\lib\\site-packages (from langchain-community) (0.3.6)\n",
      "Requirement already satisfied: tenacity!=8.4.0,<9.0.0,>=8.1.0 in c:\\users\\ahame\\anaconda3\\lib\\site-packages (from langchain-community) (8.5.0)\n",
      "Requirement already satisfied: SQLAlchemy<3,>=1.4 in c:\\users\\ahame\\anaconda3\\lib\\site-packages (from langchain-community) (1.4.22)\n",
      "Requirement already satisfied: numpy<2,>=1 in c:\\users\\ahame\\anaconda3\\lib\\site-packages (from langchain-community) (1.26.4)\n",
      "Requirement already satisfied: pydantic-settings<3.0.0,>=2.4.0 in c:\\users\\ahame\\appdata\\roaming\\python\\python39\\site-packages (from langchain-community) (2.5.2)\n",
      "Requirement already satisfied: PyYAML>=5.3 in c:\\users\\ahame\\anaconda3\\lib\\site-packages (from langchain-community) (6.0)\n",
      "Requirement already satisfied: dataclasses-json<0.7,>=0.5.7 in c:\\users\\ahame\\appdata\\roaming\\python\\python39\\site-packages (from langchain-community) (0.6.7)\n",
      "Requirement already satisfied: aiohttp<4.0.0,>=3.8.3 in c:\\users\\ahame\\appdata\\roaming\\python\\python39\\site-packages (from langchain-community) (3.10.8)\n",
      "Requirement already satisfied: requests<3,>=2 in c:\\users\\ahame\\anaconda3\\lib\\site-packages (from langchain-community) (2.26.0)\n",
      "Requirement already satisfied: langsmith<0.2.0,>=0.1.125 in c:\\users\\ahame\\anaconda3\\lib\\site-packages (from langchain-community) (0.1.129)\n",
      "Requirement already satisfied: langchain<0.4.0,>=0.3.1 in c:\\users\\ahame\\appdata\\roaming\\python\\python39\\site-packages (from langchain-community) (0.3.1)\n",
      "Requirement already satisfied: aiohappyeyeballs>=2.3.0 in c:\\users\\ahame\\anaconda3\\lib\\site-packages (from aiohttp<4.0.0,>=3.8.3->langchain-community) (2.4.2)\n",
      "Requirement already satisfied: aiosignal>=1.1.2 in c:\\users\\ahame\\anaconda3\\lib\\site-packages (from aiohttp<4.0.0,>=3.8.3->langchain-community) (1.3.1)\n",
      "Requirement already satisfied: multidict<7.0,>=4.5 in c:\\users\\ahame\\anaconda3\\lib\\site-packages (from aiohttp<4.0.0,>=3.8.3->langchain-community) (6.1.0)\n",
      "Requirement already satisfied: attrs>=17.3.0 in c:\\users\\ahame\\anaconda3\\lib\\site-packages (from aiohttp<4.0.0,>=3.8.3->langchain-community) (21.2.0)\n",
      "Requirement already satisfied: yarl<2.0,>=1.12.0 in c:\\users\\ahame\\anaconda3\\lib\\site-packages (from aiohttp<4.0.0,>=3.8.3->langchain-community) (1.13.1)\n",
      "Note: you may need to restart the kernel to use updated packages.\n",
      "Requirement already satisfied: async-timeout<5.0,>=4.0 in c:\\users\\ahame\\anaconda3\\lib\\site-packages (from aiohttp<4.0.0,>=3.8.3->langchain-community) (4.0.3)\n",
      "Requirement already satisfied: frozenlist>=1.1.1 in c:\\users\\ahame\\anaconda3\\lib\\site-packages (from aiohttp<4.0.0,>=3.8.3->langchain-community) (1.4.1)\n",
      "Requirement already satisfied: typing-inspect<1,>=0.4.0 in c:\\users\\ahame\\anaconda3\\lib\\site-packages (from dataclasses-json<0.7,>=0.5.7->langchain-community) (0.9.0)\n",
      "Requirement already satisfied: marshmallow<4.0.0,>=3.18.0 in c:\\users\\ahame\\appdata\\roaming\\python\\python39\\site-packages (from dataclasses-json<0.7,>=0.5.7->langchain-community) (3.22.0)\n",
      "Requirement already satisfied: pydantic<3.0.0,>=2.7.4 in c:\\users\\ahame\\anaconda3\\lib\\site-packages (from langchain<0.4.0,>=0.3.1->langchain-community) (2.9.2)\n",
      "Requirement already satisfied: langchain-text-splitters<0.4.0,>=0.3.0 in c:\\users\\ahame\\appdata\\roaming\\python\\python39\\site-packages (from langchain<0.4.0,>=0.3.1->langchain-community) (0.3.0)\n",
      "Requirement already satisfied: jsonpatch<2.0,>=1.33 in c:\\users\\ahame\\anaconda3\\lib\\site-packages (from langchain-core<0.4.0,>=0.3.6->langchain-community) (1.33)\n",
      "Requirement already satisfied: typing-extensions>=4.7 in c:\\users\\ahame\\anaconda3\\lib\\site-packages (from langchain-core<0.4.0,>=0.3.6->langchain-community) (4.12.2)\n",
      "Requirement already satisfied: packaging<25,>=23.2 in c:\\users\\ahame\\anaconda3\\lib\\site-packages (from langchain-core<0.4.0,>=0.3.6->langchain-community) (24.1)\n",
      "Requirement already satisfied: jsonpointer>=1.9 in c:\\users\\ahame\\anaconda3\\lib\\site-packages (from jsonpatch<2.0,>=1.33->langchain-core<0.4.0,>=0.3.6->langchain-community) (3.0.0)\n",
      "Requirement already satisfied: httpx<1,>=0.23.0 in c:\\users\\ahame\\anaconda3\\lib\\site-packages (from langsmith<0.2.0,>=0.1.125->langchain-community) (0.27.2)\n",
      "Requirement already satisfied: orjson<4.0.0,>=3.9.14 in c:\\users\\ahame\\anaconda3\\lib\\site-packages (from langsmith<0.2.0,>=0.1.125->langchain-community) (3.10.7)\n",
      "Requirement already satisfied: anyio in c:\\users\\ahame\\anaconda3\\lib\\site-packages (from httpx<1,>=0.23.0->langsmith<0.2.0,>=0.1.125->langchain-community) (4.6.0)\n",
      "Requirement already satisfied: httpcore==1.* in c:\\users\\ahame\\anaconda3\\lib\\site-packages (from httpx<1,>=0.23.0->langsmith<0.2.0,>=0.1.125->langchain-community) (1.0.5)\n",
      "Requirement already satisfied: sniffio in c:\\users\\ahame\\anaconda3\\lib\\site-packages (from httpx<1,>=0.23.0->langsmith<0.2.0,>=0.1.125->langchain-community) (1.2.0)\n",
      "Requirement already satisfied: certifi in c:\\users\\ahame\\anaconda3\\lib\\site-packages (from httpx<1,>=0.23.0->langsmith<0.2.0,>=0.1.125->langchain-community) (2021.10.8)\n",
      "Requirement already satisfied: idna in c:\\users\\ahame\\anaconda3\\lib\\site-packages (from httpx<1,>=0.23.0->langsmith<0.2.0,>=0.1.125->langchain-community) (3.2)\n",
      "Requirement already satisfied: h11<0.15,>=0.13 in c:\\users\\ahame\\anaconda3\\lib\\site-packages (from httpcore==1.*->httpx<1,>=0.23.0->langsmith<0.2.0,>=0.1.125->langchain-community) (0.14.0)\n",
      "Requirement already satisfied: annotated-types>=0.6.0 in c:\\users\\ahame\\anaconda3\\lib\\site-packages (from pydantic<3.0.0,>=2.7.4->langchain<0.4.0,>=0.3.1->langchain-community) (0.7.0)\n",
      "Requirement already satisfied: pydantic-core==2.23.4 in c:\\users\\ahame\\anaconda3\\lib\\site-packages (from pydantic<3.0.0,>=2.7.4->langchain<0.4.0,>=0.3.1->langchain-community) (2.23.4)\n",
      "Requirement already satisfied: python-dotenv>=0.21.0 in c:\\users\\ahame\\anaconda3\\lib\\site-packages (from pydantic-settings<3.0.0,>=2.4.0->langchain-community) (1.0.1)\n",
      "Requirement already satisfied: charset-normalizer~=2.0.0 in c:\\users\\ahame\\anaconda3\\lib\\site-packages (from requests<3,>=2->langchain-community) (2.0.4)\n",
      "Requirement already satisfied: urllib3<1.27,>=1.21.1 in c:\\users\\ahame\\anaconda3\\lib\\site-packages (from requests<3,>=2->langchain-community) (1.26.7)\n",
      "Requirement already satisfied: greenlet!=0.4.17 in c:\\users\\ahame\\anaconda3\\lib\\site-packages (from SQLAlchemy<3,>=1.4->langchain-community) (1.1.1)\n",
      "Requirement already satisfied: mypy-extensions>=0.3.0 in c:\\users\\ahame\\anaconda3\\lib\\site-packages (from typing-inspect<1,>=0.4.0->dataclasses-json<0.7,>=0.5.7->langchain-community) (0.4.3)\n",
      "Requirement already satisfied: exceptiongroup>=1.0.2 in c:\\users\\ahame\\anaconda3\\lib\\site-packages (from anyio->httpx<1,>=0.23.0->langsmith<0.2.0,>=0.1.125->langchain-community) (1.2.2)\n"
     ]
    }
   ],
   "source": [
    "pip install langchain-community --user"
   ]
  },
  {
   "cell_type": "code",
   "execution_count": 28,
   "id": "a61d546f",
   "metadata": {},
   "outputs": [
    {
     "name": "stdout",
     "output_type": "stream",
     "text": [
      "```json\n",
      "{\n",
      "  \"role\": \"Software Engineer I\",\n",
      "  \"experience\": \"2+ years of professional experience in application engineering\",\n",
      "  \"skills\": [\n",
      "    \"JavaScript (Node.js, React.js, Vue.js, etc.)\",\n",
      "    \"Agile processes\",\n",
      "    \"Continuous integration\",\n",
      "    \"Test automation\",\n",
      "    \"AWS CloudFront\",\n",
      "    \"AWS S3\",\n",
      "    \"AWS Route 53\",\n",
      "    \"AWS Certificate Manager\",\n",
      "    \"AWS Lambda\",\n",
      "    \"GitHub Co-pilot\"\n",
      "  ],\n",
      "  \"description\": \"The Digital Employee Experience Software Engineer I will be responsible for design, support, development, and testing of internal employee-facing websites and web applications. Design and develop technical solutions that meet the needs of the business and aligns with Nike architectural and quality standards. Build mobile first Front-End applications in a manner visually and culturally consistent with Nike brand using React.js and Redux. Ensure SLAs (Service Level Agreements) for different interfaces are met and test them by executing performance tests using various loads. Provide production support on new and existing applications.\"\n",
      "}\n",
      "```\n"
     ]
    },
    {
     "data": {
      "text/plain": [
       "str"
      ]
     },
     "execution_count": 28,
     "metadata": {},
     "output_type": "execute_result"
    }
   ],
   "source": [
    "from langchain_core.prompts import ChatPromptTemplate\n",
    "\n",
    "\n",
    "# Create a ChatPromptTemplate using a template for extracting job details from scraped page data\n",
    "prompt_extract = ChatPromptTemplate.from_template(\n",
    "    \"\"\"\n",
    "    ### SCRAPED TEXT FROM WEBSITE:\n",
    "    {page_data}\n",
    "    ### INSTRUCTION:\n",
    "    The scraped text is from the career's page of a website.\n",
    "    Your job is to extract the job postings and return them in JSON format containing the following keys: `role`, `experience`, `skills`, and `description`.\n",
    "    Only return valid JSON.\n",
    "    ### VALID JSON (NO PREAMBLE):\n",
    "    \"\"\"\n",
    ")\n",
    "\n",
    "# Invoke the prompt with the scraped page data\n",
    "chain_extract = prompt_extract | llm  # Assuming llm is already initialized\n",
    "res = chain_extract.invoke(input={'page_data': page_data})\n",
    "print(res.content)\n",
    "type(res.content)"
   ]
  },
  {
   "cell_type": "code",
   "execution_count": 29,
   "id": "9de10efd",
   "metadata": {},
   "outputs": [
    {
     "data": {
      "text/plain": [
       "{'role': 'Software Engineer I',\n",
       " 'experience': '2+ years of professional experience in application engineering',\n",
       " 'skills': ['JavaScript (Node.js, React.js, Vue.js, etc.)',\n",
       "  'Agile processes',\n",
       "  'Continuous integration',\n",
       "  'Test automation',\n",
       "  'AWS CloudFront',\n",
       "  'AWS S3',\n",
       "  'AWS Route 53',\n",
       "  'AWS Certificate Manager',\n",
       "  'AWS Lambda',\n",
       "  'GitHub Co-pilot'],\n",
       " 'description': 'The Digital Employee Experience Software Engineer I will be responsible for design, support, development, and testing of internal employee-facing websites and web applications. Design and develop technical solutions that meet the needs of the business and aligns with Nike architectural and quality standards. Build mobile first Front-End applications in a manner visually and culturally consistent with Nike brand using React.js and Redux. Ensure SLAs (Service Level Agreements) for different interfaces are met and test them by executing performance tests using various loads. Provide production support on new and existing applications.'}"
      ]
     },
     "execution_count": 29,
     "metadata": {},
     "output_type": "execute_result"
    }
   ],
   "source": [
    "from langchain_core.output_parsers import JsonOutputParser\n",
    "\n",
    "json_parser = JsonOutputParser()\n",
    "json_res = json_parser.parse(res.content)\n",
    "json_res"
   ]
  },
  {
   "cell_type": "code",
   "execution_count": 10,
   "id": "13552fdb",
   "metadata": {},
   "outputs": [
    {
     "data": {
      "text/plain": [
       "dict"
      ]
     },
     "execution_count": 10,
     "metadata": {},
     "output_type": "execute_result"
    }
   ],
   "source": [
    "type(json_res)"
   ]
  },
  {
   "cell_type": "code",
   "execution_count": 11,
   "id": "eddad14e",
   "metadata": {},
   "outputs": [
    {
     "data": {
      "text/html": [
       "<div>\n",
       "<style scoped>\n",
       "    .dataframe tbody tr th:only-of-type {\n",
       "        vertical-align: middle;\n",
       "    }\n",
       "\n",
       "    .dataframe tbody tr th {\n",
       "        vertical-align: top;\n",
       "    }\n",
       "\n",
       "    .dataframe thead th {\n",
       "        text-align: right;\n",
       "    }\n",
       "</style>\n",
       "<table border=\"1\" class=\"dataframe\">\n",
       "  <thead>\n",
       "    <tr style=\"text-align: right;\">\n",
       "      <th></th>\n",
       "      <th>Techstack</th>\n",
       "      <th>Links</th>\n",
       "    </tr>\n",
       "  </thead>\n",
       "  <tbody>\n",
       "    <tr>\n",
       "      <th>0</th>\n",
       "      <td>React, Node.js, MongoDB</td>\n",
       "      <td>https://example.com/react-portfolio</td>\n",
       "    </tr>\n",
       "    <tr>\n",
       "      <th>1</th>\n",
       "      <td>Angular, .NET, SQL Server</td>\n",
       "      <td>https://example.com/angular-portfolio</td>\n",
       "    </tr>\n",
       "    <tr>\n",
       "      <th>2</th>\n",
       "      <td>Vue.js, Ruby on Rails, PostgreSQL</td>\n",
       "      <td>https://example.com/vue-portfolio</td>\n",
       "    </tr>\n",
       "    <tr>\n",
       "      <th>3</th>\n",
       "      <td>Python, Django, MySQL</td>\n",
       "      <td>https://example.com/python-portfolio</td>\n",
       "    </tr>\n",
       "    <tr>\n",
       "      <th>4</th>\n",
       "      <td>Java, Spring Boot, Oracle</td>\n",
       "      <td>https://example.com/java-portfolio</td>\n",
       "    </tr>\n",
       "    <tr>\n",
       "      <th>5</th>\n",
       "      <td>Flutter, Firebase, GraphQL</td>\n",
       "      <td>https://example.com/flutter-portfolio</td>\n",
       "    </tr>\n",
       "    <tr>\n",
       "      <th>6</th>\n",
       "      <td>WordPress, PHP, MySQL</td>\n",
       "      <td>https://example.com/wordpress-portfolio</td>\n",
       "    </tr>\n",
       "    <tr>\n",
       "      <th>7</th>\n",
       "      <td>Magento, PHP, MySQL</td>\n",
       "      <td>https://example.com/magento-portfolio</td>\n",
       "    </tr>\n",
       "    <tr>\n",
       "      <th>8</th>\n",
       "      <td>React Native, Node.js, MongoDB</td>\n",
       "      <td>https://example.com/react-native-portfolio</td>\n",
       "    </tr>\n",
       "    <tr>\n",
       "      <th>9</th>\n",
       "      <td>iOS, Swift, Core Data</td>\n",
       "      <td>https://example.com/ios-portfolio</td>\n",
       "    </tr>\n",
       "    <tr>\n",
       "      <th>10</th>\n",
       "      <td>Android, Java, Room Persistence</td>\n",
       "      <td>https://example.com/android-portfolio</td>\n",
       "    </tr>\n",
       "    <tr>\n",
       "      <th>11</th>\n",
       "      <td>Kotlin, Android, Firebase</td>\n",
       "      <td>https://example.com/kotlin-android-portfolio</td>\n",
       "    </tr>\n",
       "    <tr>\n",
       "      <th>12</th>\n",
       "      <td>Android TV, Kotlin, Android NDK</td>\n",
       "      <td>https://example.com/android-tv-portfolio</td>\n",
       "    </tr>\n",
       "    <tr>\n",
       "      <th>13</th>\n",
       "      <td>iOS, Swift, ARKit</td>\n",
       "      <td>https://example.com/ios-ar-portfolio</td>\n",
       "    </tr>\n",
       "    <tr>\n",
       "      <th>14</th>\n",
       "      <td>Cross-platform, Xamarin, Azure</td>\n",
       "      <td>https://example.com/xamarin-portfolio</td>\n",
       "    </tr>\n",
       "    <tr>\n",
       "      <th>15</th>\n",
       "      <td>Backend, Kotlin, Spring Boot</td>\n",
       "      <td>https://example.com/kotlin-backend-portfolio</td>\n",
       "    </tr>\n",
       "    <tr>\n",
       "      <th>16</th>\n",
       "      <td>Frontend, TypeScript, Angular</td>\n",
       "      <td>https://example.com/typescript-frontend-portfolio</td>\n",
       "    </tr>\n",
       "    <tr>\n",
       "      <th>17</th>\n",
       "      <td>Full-stack, JavaScript, Express.js</td>\n",
       "      <td>https://example.com/full-stack-js-portfolio</td>\n",
       "    </tr>\n",
       "    <tr>\n",
       "      <th>18</th>\n",
       "      <td>Machine Learning, Python, TensorFlow</td>\n",
       "      <td>https://example.com/ml-python-portfolio</td>\n",
       "    </tr>\n",
       "    <tr>\n",
       "      <th>19</th>\n",
       "      <td>DevOps, Jenkins, Docker</td>\n",
       "      <td>https://example.com/devops-portfolio</td>\n",
       "    </tr>\n",
       "  </tbody>\n",
       "</table>\n",
       "</div>"
      ],
      "text/plain": [
       "                               Techstack  \\\n",
       "0                React, Node.js, MongoDB   \n",
       "1              Angular, .NET, SQL Server   \n",
       "2      Vue.js, Ruby on Rails, PostgreSQL   \n",
       "3                  Python, Django, MySQL   \n",
       "4              Java, Spring Boot, Oracle   \n",
       "5             Flutter, Firebase, GraphQL   \n",
       "6                  WordPress, PHP, MySQL   \n",
       "7                    Magento, PHP, MySQL   \n",
       "8         React Native, Node.js, MongoDB   \n",
       "9                  iOS, Swift, Core Data   \n",
       "10       Android, Java, Room Persistence   \n",
       "11             Kotlin, Android, Firebase   \n",
       "12       Android TV, Kotlin, Android NDK   \n",
       "13                     iOS, Swift, ARKit   \n",
       "14        Cross-platform, Xamarin, Azure   \n",
       "15          Backend, Kotlin, Spring Boot   \n",
       "16         Frontend, TypeScript, Angular   \n",
       "17    Full-stack, JavaScript, Express.js   \n",
       "18  Machine Learning, Python, TensorFlow   \n",
       "19               DevOps, Jenkins, Docker   \n",
       "\n",
       "                                                Links  \n",
       "0                 https://example.com/react-portfolio  \n",
       "1               https://example.com/angular-portfolio  \n",
       "2                   https://example.com/vue-portfolio  \n",
       "3                https://example.com/python-portfolio  \n",
       "4                  https://example.com/java-portfolio  \n",
       "5               https://example.com/flutter-portfolio  \n",
       "6             https://example.com/wordpress-portfolio  \n",
       "7               https://example.com/magento-portfolio  \n",
       "8          https://example.com/react-native-portfolio  \n",
       "9                   https://example.com/ios-portfolio  \n",
       "10              https://example.com/android-portfolio  \n",
       "11       https://example.com/kotlin-android-portfolio  \n",
       "12           https://example.com/android-tv-portfolio  \n",
       "13               https://example.com/ios-ar-portfolio  \n",
       "14              https://example.com/xamarin-portfolio  \n",
       "15       https://example.com/kotlin-backend-portfolio  \n",
       "16  https://example.com/typescript-frontend-portfolio  \n",
       "17        https://example.com/full-stack-js-portfolio  \n",
       "18            https://example.com/ml-python-portfolio  \n",
       "19               https://example.com/devops-portfolio  "
      ]
     },
     "execution_count": 11,
     "metadata": {},
     "output_type": "execute_result"
    }
   ],
   "source": [
    "import pandas as pd\n",
    "\n",
    "df = pd.read_csv(\"techstack_portfolios.csv\")\n",
    "df"
   ]
  },
  {
   "cell_type": "code",
   "execution_count": 13,
   "id": "676cfecd",
   "metadata": {},
   "outputs": [],
   "source": [
    "import chromadb\n",
    "import uuid  # Importing uuid module\n",
    "\n",
    "client = chromadb.PersistentClient('vectorstore')  #vector db\n",
    "collection = client.get_or_create_collection(name=\"portfolio\")\n",
    "\n",
    "if not collection.count():\n",
    "    for _, row in df.iterrows():\n",
    "        collection.add(documents=row[\"Techstack\"],\n",
    "                       metadatas={\"links\": row[\"Links\"]},\n",
    "                       ids=[str(uuid.uuid4())])\n"
   ]
  },
  {
   "cell_type": "code",
   "execution_count": 30,
   "id": "4528aa55",
   "metadata": {},
   "outputs": [
    {
     "data": {
      "text/plain": [
       "[[{'links': 'https://example.com/java-portfolio'},\n",
       "  {'links': 'https://example.com/kotlin-backend-portfolio'}],\n",
       " [{'links': 'https://example.com/angular-portfolio'},\n",
       "  {'links': 'https://example.com/ml-python-portfolio'}],\n",
       " [{'links': 'https://example.com/ml-python-portfolio'},\n",
       "  {'links': 'https://example.com/magento-portfolio'}],\n",
       " [{'links': 'https://example.com/xamarin-portfolio'},\n",
       "  {'links': 'https://example.com/ml-python-portfolio'}]]"
      ]
     },
     "execution_count": 30,
     "metadata": {},
     "output_type": "execute_result"
    }
   ],
   "source": [
    "links = collection.query(query_texts=job[\"skills\"], n_results=2).get('metadatas',[])\n",
    "links"
   ]
  },
  {
   "cell_type": "code",
   "execution_count": 31,
   "id": "375a8e1b",
   "metadata": {},
   "outputs": [
    {
     "data": {
      "text/plain": [
       "['JavaScript (Node.js, React.js, Vue.js, etc.)',\n",
       " 'Agile processes',\n",
       " 'Continuous integration',\n",
       " 'Test automation',\n",
       " 'AWS CloudFront',\n",
       " 'AWS S3',\n",
       " 'AWS Route 53',\n",
       " 'AWS Certificate Manager',\n",
       " 'AWS Lambda',\n",
       " 'GitHub Co-pilot']"
      ]
     },
     "execution_count": 31,
     "metadata": {},
     "output_type": "execute_result"
    }
   ],
   "source": [
    "job = json_res\n",
    "job['skills']"
   ]
  },
  {
   "cell_type": "code",
   "execution_count": 32,
   "id": "5e161c8b",
   "metadata": {},
   "outputs": [
    {
     "name": "stdout",
     "output_type": "stream",
     "text": [
      "Subject: Expert Software Engineering Solutions for Nike's Digital Employee Experience\n",
      "\n",
      "Dear Hiring Manager,\n",
      "\n",
      "I came across the job description for a Software Engineer I role at Nike, and I'm excited to introduce AtliQ, an AI & Software firm that specializes in delivering tailored solutions for process optimization, cost reduction, and enhanced efficiency.\n",
      "\n",
      "Our team of experts has extensive experience in designing, developing, and testing internal employee-facing websites and web applications, aligning with architectural and quality standards. We've successfully implemented React.js and Redux to build mobile-first Front-End applications that meet the highest visual and cultural standards.\n",
      "\n",
      "AtliQ's expertise in Agile processes, Continuous Integration, Test Automation, and AWS services (CloudFront, S3, Route 53, Certificate Manager, and Lambda) makes us an ideal partner for Nike's Digital Employee Experience project. Our team is well-versed in ensuring SLAs are met and executing performance tests under various loads.\n",
      "\n",
      "To showcase our capabilities, I'd like to highlight a few relevant projects from our portfolio:\n",
      "\n",
      "* [Case Study: Custom Web Application Development for a Leading Retailer](https://www.atliq.com/case-study/custom-web-application-development-for-a-leading-retailer/)\n",
      "* [Case Study: AI-Powered Chatbot Development for a Fortune 500 Company](https://www.atliq.com/case-study/ai-powered-chatbot-development-for-a-fortune-500-company/)\n",
      "* [Case Study: Cloud Migration and DevOps for a Global E-commerce Platform](https://www.atliq.com/case-study/cloud-migration-and-devops-for-a-global-e-commerce-platform/)\n",
      "\n",
      "These projects demonstrate our ability to deliver high-quality solutions that meet the needs of businesses like Nike. I'd be delighted to schedule a call to discuss how AtliQ can assist in fulfilling your requirements.\n",
      "\n",
      "Please let me know if you're interested in exploring this opportunity further.\n",
      "\n",
      "Best regards,\n",
      "\n",
      "Mohan\n",
      "Business Development Executive\n",
      "AtliQ\n",
      "[mohan@atliq.com](mailto:mohan@atliq.com)\n",
      "+91 98765 43210\n"
     ]
    }
   ],
   "source": [
    "prompt_email = ChatPromptTemplate.from_template(\n",
    "    \"\"\"\n",
    "    ### JOB DESCRIPTION:\n",
    "    {job_description}\n",
    "\n",
    "    ### INSTRUCTION:\n",
    "    You are Mohan, a business development executive at AtliQ. AtliQ is an AI & Software firm that focuses on the seamless integration of business processes through automated tools.\n",
    "    Over our experience, we have empowered numerous enterprises with tailored solutions aimed at process optimization, cost reduction, and heightened overall efficiency.\n",
    "    Your job is to write a cold email to the client regarding the job mentioned above and assist them in fulfilling their needs.\n",
    "    Also, add the most relevant ones from the following links to showcase AtliQ's portfolio.\n",
    "    Remember you are Mohan, BDE at AtliQ.\n",
    "    Do not provide a preamble.\n",
    "    ### EMAIL (NO PREAMBLE):\n",
    "    \"\"\"\n",
    ")\n",
    "\n",
    "chain_email = prompt_email | llm\n",
    "res = chain_email.invoke({\"job_description\": str(job), \"link_list\": links})\n",
    "print(res.content)"
   ]
  },
  {
   "cell_type": "code",
   "execution_count": null,
   "id": "77c5120d",
   "metadata": {},
   "outputs": [],
   "source": []
  }
 ],
 "metadata": {
  "kernelspec": {
   "display_name": "Python 3 (ipykernel)",
   "language": "python",
   "name": "python3"
  },
  "language_info": {
   "codemirror_mode": {
    "name": "ipython",
    "version": 3
   },
   "file_extension": ".py",
   "mimetype": "text/x-python",
   "name": "python",
   "nbconvert_exporter": "python",
   "pygments_lexer": "ipython3",
   "version": "3.9.7"
  }
 },
 "nbformat": 4,
 "nbformat_minor": 5
}
