{
 "cells": [
  {
   "cell_type": "code",
   "execution_count": 2,
   "id": "556dbb7b",
   "metadata": {},
   "outputs": [
    {
     "name": "stdout",
     "output_type": "stream",
     "text": [
      "Collecting chromadb\n",
      "  Using cached chromadb-0.5.11-py3-none-any.whl (603 kB)\n",
      "Requirement already satisfied: opentelemetry-instrumentation-fastapi>=0.41b0 in c:\\users\\ahame\\anaconda3\\lib\\site-packages (from chromadb) (0.48b0)\n",
      "Requirement already satisfied: posthog>=2.4.0 in c:\\users\\ahame\\anaconda3\\lib\\site-packages (from chromadb) (3.6.6)\n",
      "Requirement already satisfied: tenacity>=8.2.3 in c:\\users\\ahame\\anaconda3\\lib\\site-packages (from chromadb) (8.5.0)\n",
      "Collecting mmh3>=4.0.1\n",
      "  Using cached mmh3-5.0.1-cp39-cp39-win_amd64.whl (39 kB)\n",
      "Requirement already satisfied: pydantic>=1.9 in c:\\users\\ahame\\anaconda3\\lib\\site-packages (from chromadb) (2.9.2)\n",
      "Requirement already satisfied: rich>=10.11.0 in c:\\users\\ahame\\anaconda3\\lib\\site-packages (from chromadb) (13.8.1)\n",
      "Collecting fastapi>=0.95.2\n",
      "  Using cached fastapi-0.115.0-py3-none-any.whl (94 kB)\n",
      "Requirement already satisfied: numpy>=1.22.5 in c:\\users\\ahame\\anaconda3\\lib\\site-packages (from chromadb) (2.0.2)\n",
      "Requirement already satisfied: opentelemetry-sdk>=1.2.0 in c:\\users\\ahame\\anaconda3\\lib\\site-packages (from chromadb) (1.27.0)\n",
      "Requirement already satisfied: PyYAML>=6.0.0 in c:\\users\\ahame\\anaconda3\\lib\\site-packages (from chromadb) (6.0)\n",
      "Requirement already satisfied: tokenizers>=0.13.2 in c:\\users\\ahame\\anaconda3\\lib\\site-packages (from chromadb) (0.20.0)\n",
      "Requirement already satisfied: onnxruntime>=1.14.1 in c:\\users\\ahame\\anaconda3\\lib\\site-packages (from chromadb) (1.19.2)\n",
      "Requirement already satisfied: typer>=0.9.0 in c:\\users\\ahame\\anaconda3\\lib\\site-packages (from chromadb) (0.12.5)\n",
      "Requirement already satisfied: uvicorn[standard]>=0.18.3 in c:\\users\\ahame\\anaconda3\\lib\\site-packages (from chromadb) (0.31.0)\n",
      "Collecting kubernetes>=28.1.0\n",
      "  Using cached kubernetes-31.0.0-py2.py3-none-any.whl (1.9 MB)\n",
      "Collecting importlib-resources\n",
      "  Using cached importlib_resources-6.4.5-py3-none-any.whl (36 kB)\n",
      "Requirement already satisfied: httpx>=0.27.0 in c:\\users\\ahame\\anaconda3\\lib\\site-packages (from chromadb) (0.27.2)\n",
      "Collecting chroma-hnswlib==0.7.6\n",
      "  Using cached chroma_hnswlib-0.7.6-cp39-cp39-win_amd64.whl (151 kB)\n",
      "Collecting build>=1.0.3\n",
      "  Using cached build-1.2.2-py3-none-any.whl (22 kB)\n",
      "Requirement already satisfied: tqdm>=4.65.0 in c:\\users\\ahame\\anaconda3\\lib\\site-packages (from chromadb) (4.66.5)\n",
      "Collecting bcrypt>=4.0.1\n",
      "  Using cached bcrypt-4.2.0-cp39-abi3-win_amd64.whl (151 kB)\n",
      "Requirement already satisfied: orjson>=3.9.12 in c:\\users\\ahame\\anaconda3\\lib\\site-packages (from chromadb) (3.10.7)\n",
      "Requirement already satisfied: opentelemetry-exporter-otlp-proto-grpc>=1.2.0 in c:\\users\\ahame\\anaconda3\\lib\\site-packages (from chromadb) (1.27.0)\n",
      "Requirement already satisfied: pypika>=0.48.9 in c:\\users\\ahame\\anaconda3\\lib\\site-packages (from chromadb) (0.48.9)\n",
      "Requirement already satisfied: grpcio>=1.58.0 in c:\\users\\ahame\\anaconda3\\lib\\site-packages (from chromadb) (1.66.2)\n",
      "Requirement already satisfied: typing-extensions>=4.5.0 in c:\\users\\ahame\\anaconda3\\lib\\site-packages (from chromadb) (4.12.2)\n",
      "Requirement already satisfied: opentelemetry-api>=1.2.0 in c:\\users\\ahame\\anaconda3\\lib\\site-packages (from chromadb) (1.27.0)\n",
      "Requirement already satisfied: overrides>=7.3.1 in c:\\users\\ahame\\anaconda3\\lib\\site-packages (from chromadb) (7.7.0)\n",
      "Requirement already satisfied: importlib-metadata>=4.6 in c:\\users\\ahame\\anaconda3\\lib\\site-packages (from build>=1.0.3->chromadb) (8.4.0)\n",
      "Requirement already satisfied: packaging>=19.1 in c:\\users\\ahame\\anaconda3\\lib\\site-packages (from build>=1.0.3->chromadb) (24.1)\n",
      "Requirement already satisfied: pyproject_hooks in c:\\users\\ahame\\anaconda3\\lib\\site-packages (from build>=1.0.3->chromadb) (1.1.0)\n",
      "Requirement already satisfied: colorama in c:\\users\\ahame\\anaconda3\\lib\\site-packages (from build>=1.0.3->chromadb) (0.4.4)\n",
      "Requirement already satisfied: tomli>=1.1.0 in c:\\users\\ahame\\anaconda3\\lib\\site-packages (from build>=1.0.3->chromadb) (2.0.1)\n",
      "Requirement already satisfied: starlette<0.39.0,>=0.37.2 in c:\\users\\ahame\\anaconda3\\lib\\site-packages (from fastapi>=0.95.2->chromadb) (0.38.6)\n",
      "Requirement already satisfied: certifi in c:\\users\\ahame\\anaconda3\\lib\\site-packages (from httpx>=0.27.0->chromadb) (2021.10.8)\n",
      "Requirement already satisfied: httpcore==1.* in c:\\users\\ahame\\anaconda3\\lib\\site-packages (from httpx>=0.27.0->chromadb) (1.0.5)\n",
      "Requirement already satisfied: sniffio in c:\\users\\ahame\\anaconda3\\lib\\site-packages (from httpx>=0.27.0->chromadb) (1.2.0)\n",
      "Requirement already satisfied: idna in c:\\users\\ahame\\anaconda3\\lib\\site-packages (from httpx>=0.27.0->chromadb) (3.2)\n",
      "Requirement already satisfied: anyio in c:\\users\\ahame\\anaconda3\\lib\\site-packages (from httpx>=0.27.0->chromadb) (4.6.0)\n",
      "Requirement already satisfied: h11<0.15,>=0.13 in c:\\users\\ahame\\anaconda3\\lib\\site-packages (from httpcore==1.*->httpx>=0.27.0->chromadb) (0.14.0)\n",
      "Requirement already satisfied: zipp>=0.5 in c:\\users\\ahame\\anaconda3\\lib\\site-packages (from importlib-metadata>=4.6->build>=1.0.3->chromadb) (3.6.0)\n",
      "Requirement already satisfied: durationpy>=0.7 in c:\\users\\ahame\\anaconda3\\lib\\site-packages (from kubernetes>=28.1.0->chromadb) (0.7)\n",
      "Requirement already satisfied: google-auth>=1.0.1 in c:\\users\\ahame\\anaconda3\\lib\\site-packages (from kubernetes>=28.1.0->chromadb) (2.15.0)\n",
      "Requirement already satisfied: requests in c:\\users\\ahame\\anaconda3\\lib\\site-packages (from kubernetes>=28.1.0->chromadb) (2.26.0)\n",
      "Requirement already satisfied: urllib3>=1.24.2 in c:\\users\\ahame\\anaconda3\\lib\\site-packages (from kubernetes>=28.1.0->chromadb) (1.26.7)\n",
      "Requirement already satisfied: oauthlib>=3.2.2 in c:\\users\\ahame\\anaconda3\\lib\\site-packages (from kubernetes>=28.1.0->chromadb) (3.2.2)\n",
      "Requirement already satisfied: python-dateutil>=2.5.3 in c:\\users\\ahame\\anaconda3\\lib\\site-packages (from kubernetes>=28.1.0->chromadb) (2.8.2)\n",
      "Requirement already satisfied: six>=1.9.0 in c:\\users\\ahame\\anaconda3\\lib\\site-packages (from kubernetes>=28.1.0->chromadb) (1.16.0)\n",
      "Requirement already satisfied: websocket-client!=0.40.0,!=0.41.*,!=0.42.*,>=0.32.0 in c:\\users\\ahame\\anaconda3\\lib\\site-packages (from kubernetes>=28.1.0->chromadb) (1.8.0)\n",
      "Requirement already satisfied: requests-oauthlib in c:\\users\\ahame\\anaconda3\\lib\\site-packages (from kubernetes>=28.1.0->chromadb) (1.3.1)\n",
      "Requirement already satisfied: cachetools<6.0,>=2.0.0 in c:\\users\\ahame\\anaconda3\\lib\\site-packages (from google-auth>=1.0.1->kubernetes>=28.1.0->chromadb) (5.2.0)\n",
      "Requirement already satisfied: pyasn1-modules>=0.2.1 in c:\\users\\ahame\\anaconda3\\lib\\site-packages (from google-auth>=1.0.1->kubernetes>=28.1.0->chromadb) (0.2.8)\n",
      "Requirement already satisfied: rsa<5,>=3.1.4 in c:\\users\\ahame\\anaconda3\\lib\\site-packages (from google-auth>=1.0.1->kubernetes>=28.1.0->chromadb) (4.9)\n",
      "Requirement already satisfied: flatbuffers in c:\\users\\ahame\\anaconda3\\lib\\site-packages (from onnxruntime>=1.14.1->chromadb) (22.12.6)\n",
      "Requirement already satisfied: protobuf in c:\\users\\ahame\\anaconda3\\lib\\site-packages (from onnxruntime>=1.14.1->chromadb) (4.25.5)\n",
      "Requirement already satisfied: sympy in c:\\users\\ahame\\anaconda3\\lib\\site-packages (from onnxruntime>=1.14.1->chromadb) (1.9)\n",
      "Requirement already satisfied: coloredlogs in c:\\users\\ahame\\anaconda3\\lib\\site-packages (from onnxruntime>=1.14.1->chromadb) (15.0.1)\n",
      "Requirement already satisfied: deprecated>=1.2.6 in c:\\users\\ahame\\anaconda3\\lib\\site-packages (from opentelemetry-api>=1.2.0->chromadb) (1.2.14)\n",
      "Requirement already satisfied: wrapt<2,>=1.10 in c:\\users\\ahame\\anaconda3\\lib\\site-packages (from deprecated>=1.2.6->opentelemetry-api>=1.2.0->chromadb) (1.12.1)\n",
      "Requirement already satisfied: opentelemetry-proto==1.27.0 in c:\\users\\ahame\\anaconda3\\lib\\site-packages (from opentelemetry-exporter-otlp-proto-grpc>=1.2.0->chromadb) (1.27.0)\n",
      "Requirement already satisfied: opentelemetry-exporter-otlp-proto-common==1.27.0 in c:\\users\\ahame\\anaconda3\\lib\\site-packages (from opentelemetry-exporter-otlp-proto-grpc>=1.2.0->chromadb) (1.27.0)\n",
      "Requirement already satisfied: googleapis-common-protos~=1.52 in c:\\users\\ahame\\anaconda3\\lib\\site-packages (from opentelemetry-exporter-otlp-proto-grpc>=1.2.0->chromadb) (1.65.0)\n",
      "Requirement already satisfied: opentelemetry-util-http==0.48b0 in c:\\users\\ahame\\anaconda3\\lib\\site-packages (from opentelemetry-instrumentation-fastapi>=0.41b0->chromadb) (0.48b0)\n",
      "Requirement already satisfied: opentelemetry-semantic-conventions==0.48b0 in c:\\users\\ahame\\anaconda3\\lib\\site-packages (from opentelemetry-instrumentation-fastapi>=0.41b0->chromadb) (0.48b0)\n",
      "Requirement already satisfied: opentelemetry-instrumentation-asgi==0.48b0 in c:\\users\\ahame\\anaconda3\\lib\\site-packages (from opentelemetry-instrumentation-fastapi>=0.41b0->chromadb) (0.48b0)\n",
      "Note: you may need to restart the kernel to use updated packages.\n",
      "Requirement already satisfied: opentelemetry-instrumentation==0.48b0 in c:\\users\\ahame\\anaconda3\\lib\\site-packages (from opentelemetry-instrumentation-fastapi>=0.41b0->chromadb) (0.48b0)\n",
      "Requirement already satisfied: setuptools>=16.0 in c:\\users\\ahame\\anaconda3\\lib\\site-packages (from opentelemetry-instrumentation==0.48b0->opentelemetry-instrumentation-fastapi>=0.41b0->chromadb) (58.0.4)\n",
      "Requirement already satisfied: asgiref~=3.0 in c:\\users\\ahame\\anaconda3\\lib\\site-packages (from opentelemetry-instrumentation-asgi==0.48b0->opentelemetry-instrumentation-fastapi>=0.41b0->chromadb) (3.8.1)\n",
      "Requirement already satisfied: backoff>=1.10.0 in c:\\users\\ahame\\anaconda3\\lib\\site-packages (from posthog>=2.4.0->chromadb) (2.2.1)\n",
      "Requirement already satisfied: monotonic>=1.5 in c:\\users\\ahame\\anaconda3\\lib\\site-packages (from posthog>=2.4.0->chromadb) (1.6)\n",
      "Requirement already satisfied: pyasn1<0.5.0,>=0.4.6 in c:\\users\\ahame\\anaconda3\\lib\\site-packages (from pyasn1-modules>=0.2.1->google-auth>=1.0.1->kubernetes>=28.1.0->chromadb) (0.4.8)\n",
      "Requirement already satisfied: pydantic-core==2.23.4 in c:\\users\\ahame\\anaconda3\\lib\\site-packages (from pydantic>=1.9->chromadb) (2.23.4)\n",
      "Requirement already satisfied: annotated-types>=0.6.0 in c:\\users\\ahame\\anaconda3\\lib\\site-packages (from pydantic>=1.9->chromadb) (0.7.0)\n",
      "Requirement already satisfied: charset-normalizer~=2.0.0 in c:\\users\\ahame\\anaconda3\\lib\\site-packages (from requests->kubernetes>=28.1.0->chromadb) (2.0.4)\n",
      "Requirement already satisfied: markdown-it-py>=2.2.0 in c:\\users\\ahame\\anaconda3\\lib\\site-packages (from rich>=10.11.0->chromadb) (3.0.0)\n",
      "Requirement already satisfied: pygments<3.0.0,>=2.13.0 in c:\\users\\ahame\\anaconda3\\lib\\site-packages (from rich>=10.11.0->chromadb) (2.18.0)\n",
      "Requirement already satisfied: mdurl~=0.1 in c:\\users\\ahame\\anaconda3\\lib\\site-packages (from markdown-it-py>=2.2.0->rich>=10.11.0->chromadb) (0.1.2)\n",
      "Requirement already satisfied: exceptiongroup>=1.0.2 in c:\\users\\ahame\\anaconda3\\lib\\site-packages (from anyio->httpx>=0.27.0->chromadb) (1.2.2)\n",
      "Requirement already satisfied: huggingface-hub<1.0,>=0.16.4 in c:\\users\\ahame\\anaconda3\\lib\\site-packages (from tokenizers>=0.13.2->chromadb) (0.25.1)\n",
      "Requirement already satisfied: fsspec>=2023.5.0 in c:\\users\\ahame\\anaconda3\\lib\\site-packages (from huggingface-hub<1.0,>=0.16.4->tokenizers>=0.13.2->chromadb) (2024.9.0)\n",
      "Requirement already satisfied: filelock in c:\\users\\ahame\\anaconda3\\lib\\site-packages (from huggingface-hub<1.0,>=0.16.4->tokenizers>=0.13.2->chromadb) (3.3.1)\n",
      "Requirement already satisfied: shellingham>=1.3.0 in c:\\users\\ahame\\anaconda3\\lib\\site-packages (from typer>=0.9.0->chromadb) (1.5.4)\n",
      "Requirement already satisfied: click>=8.0.0 in c:\\users\\ahame\\anaconda3\\lib\\site-packages (from typer>=0.9.0->chromadb) (8.0.3)\n",
      "Requirement already satisfied: httptools>=0.5.0 in c:\\users\\ahame\\anaconda3\\lib\\site-packages (from uvicorn[standard]>=0.18.3->chromadb) (0.6.1)\n",
      "Requirement already satisfied: python-dotenv>=0.13 in c:\\users\\ahame\\anaconda3\\lib\\site-packages (from uvicorn[standard]>=0.18.3->chromadb) (1.0.1)\n",
      "Requirement already satisfied: websockets>=10.4 in c:\\users\\ahame\\anaconda3\\lib\\site-packages (from uvicorn[standard]>=0.18.3->chromadb) (13.1)\n"
     ]
    },
    {
     "name": "stdout",
     "output_type": "stream",
     "text": [
      "Requirement already satisfied: watchfiles>=0.13 in c:\\users\\ahame\\anaconda3\\lib\\site-packages (from uvicorn[standard]>=0.18.3->chromadb) (0.24.0)\n",
      "Requirement already satisfied: humanfriendly>=9.1 in c:\\users\\ahame\\anaconda3\\lib\\site-packages (from coloredlogs->onnxruntime>=1.14.1->chromadb) (10.0)\n",
      "Requirement already satisfied: pyreadline3 in c:\\users\\ahame\\anaconda3\\lib\\site-packages (from humanfriendly>=9.1->coloredlogs->onnxruntime>=1.14.1->chromadb) (3.5.4)\n",
      "Requirement already satisfied: mpmath>=0.19 in c:\\users\\ahame\\anaconda3\\lib\\site-packages (from sympy->onnxruntime>=1.14.1->chromadb) (1.2.1)\n",
      "Installing collected packages: mmh3, kubernetes, importlib-resources, fastapi, chroma-hnswlib, build, bcrypt, chromadb\n",
      "  Attempting uninstall: bcrypt\n",
      "    Found existing installation: bcrypt 3.2.0\n",
      "    Uninstalling bcrypt-3.2.0:\n",
      "      Successfully uninstalled bcrypt-3.2.0\n",
      "Successfully installed bcrypt-4.2.0 build-1.2.2 chroma-hnswlib-0.7.6 chromadb-0.5.11 fastapi-0.115.0 importlib-resources-6.4.5 kubernetes-31.0.0 mmh3-5.0.1\n"
     ]
    }
   ],
   "source": [
    "pip install chromadb\n",
    "\n",
    "# What is Chroma DB?\n",
    "# Chroma DB is a database optimized for storing, indexing, and querying vectors \n",
    "#(usually embeddings). It is built to handle high-dimensional data like word embeddings, \n",
    "#image embeddings, or any form of data transformed into a vector format. This makes it ideal for tasks \n",
    "#where you need to search, compare, or retrieve data based on similarity in a vector space"
   ]
  },
  {
   "cell_type": "code",
   "execution_count": 5,
   "id": "69173edf",
   "metadata": {},
   "outputs": [],
   "source": [
    "import chromadb\n",
    "client = chromadb.Client()\n",
    "collection = client.create_collection(name=\"my_collection\")"
   ]
  },
  {
   "cell_type": "code",
   "execution_count": 6,
   "id": "095f5c6a",
   "metadata": {},
   "outputs": [
    {
     "name": "stderr",
     "output_type": "stream",
     "text": [
      "C:\\Users\\ahame\\.cache\\chroma\\onnx_models\\all-MiniLM-L6-v2\\onnx.tar.gz: 100%|█████| 79.3M/79.3M [00:23<00:00, 3.51MiB/s]\n"
     ]
    }
   ],
   "source": [
    "collection.add(\n",
    "     documents = [\n",
    "         \"This is Aslam\",\n",
    "         \"This is Virat\"\n",
    "     ],\n",
    "    ids = [\"id1\",\"id2\"]          # TO STORE DATA IN VECTOR DB(CHROME DB)\n",
    ")"
   ]
  },
  {
   "cell_type": "code",
   "execution_count": 7,
   "id": "941f2ad2",
   "metadata": {},
   "outputs": [
    {
     "data": {
      "text/plain": [
       "{'ids': ['id1', 'id2'],\n",
       " 'embeddings': None,\n",
       " 'metadatas': [None, None],\n",
       " 'documents': ['This is Aslam', 'This is Virat'],\n",
       " 'uris': None,\n",
       " 'data': None,\n",
       " 'included': ['metadatas', 'documents']}"
      ]
     },
     "execution_count": 7,
     "metadata": {},
     "output_type": "execute_result"
    }
   ],
   "source": [
    "all_docs = collection.get()\n",
    "all_docs       # RETRIEVE ALL THE STORED DOCS"
   ]
  },
  {
   "cell_type": "code",
   "execution_count": 8,
   "id": "976a12a1",
   "metadata": {},
   "outputs": [
    {
     "data": {
      "text/plain": [
       "{'ids': ['id1'],\n",
       " 'embeddings': None,\n",
       " 'metadatas': [None],\n",
       " 'documents': ['This is Aslam'],\n",
       " 'uris': None,\n",
       " 'data': None,\n",
       " 'included': ['metadatas', 'documents']}"
      ]
     },
     "execution_count": 8,
     "metadata": {},
     "output_type": "execute_result"
    }
   ],
   "source": [
    "getDataById = collection.get(ids=['id1'])\n",
    "getDataById         # GET SPECIFIC DOC BY ID"
   ]
  },
  {
   "cell_type": "code",
   "execution_count": 9,
   "id": "3a94a401",
   "metadata": {},
   "outputs": [
    {
     "data": {
      "text/plain": [
       "{'ids': [['id2', 'id1']],\n",
       " 'distances': [[1.813114881515503, 1.8394901752471924]],\n",
       " 'metadatas': [[None, None]],\n",
       " 'embeddings': None,\n",
       " 'documents': [['This is Virat', 'This is Aslam']],\n",
       " 'uris': None,\n",
       " 'data': None,\n",
       " 'included': ['metadatas', 'documents', 'distances']}"
      ]
     },
     "execution_count": 9,
     "metadata": {},
     "output_type": "execute_result"
    }
   ],
   "source": [
    "results = collection.query(\n",
    "   query_texts = ['query is about india'],\n",
    "   n_results = 2\n",
    ")\n",
    "results        #semantic search"
   ]
  },
  {
   "cell_type": "code",
   "execution_count": 10,
   "id": "318f4dc9",
   "metadata": {},
   "outputs": [
    {
     "data": {
      "text/plain": [
       "{'ids': [],\n",
       " 'embeddings': None,\n",
       " 'metadatas': [],\n",
       " 'documents': [],\n",
       " 'uris': None,\n",
       " 'data': None,\n",
       " 'included': ['metadatas', 'documents']}"
      ]
     },
     "execution_count": 10,
     "metadata": {},
     "output_type": "execute_result"
    }
   ],
   "source": [
    "collection.delete(ids=all_docs['ids'])\n",
    "collection.get()            #TO DELETE ALL DOCS"
   ]
  },
  {
   "cell_type": "code",
   "execution_count": 11,
   "id": "3526e654",
   "metadata": {},
   "outputs": [],
   "source": [
    "collection.add(\n",
    "     documents = [\n",
    "         \"This is Aslam\",\n",
    "         \"This is Virat\"\n",
    "     ],\n",
    "    ids = [\"id1\",\"id2\"],          # TO STORE DATA IN VECTOR DB(CHROME DB)\n",
    "    metadatas = [\n",
    "        {\"url\":\"https://en.wikipedia.org/wiki/This is Aslam\"},\n",
    "        {\"url\":\"https://en.wikipedia.org/wiki/This is Virat\"},\n",
    "\n",
    "    ]\n",
    ")"
   ]
  },
  {
   "cell_type": "code",
   "execution_count": 12,
   "id": "fc5ef395",
   "metadata": {},
   "outputs": [
    {
     "data": {
      "text/plain": [
       "{'ids': [['id2', 'id1']],\n",
       " 'distances': [[1.813114881515503, 1.8394901752471924]],\n",
       " 'metadatas': [[{'url': 'https://en.wikipedia.org/wiki/This is Virat'},\n",
       "   {'url': 'https://en.wikipedia.org/wiki/This is Aslam'}]],\n",
       " 'embeddings': None,\n",
       " 'documents': [['This is Virat', 'This is Aslam']],\n",
       " 'uris': None,\n",
       " 'data': None,\n",
       " 'included': ['metadatas', 'documents', 'distances']}"
      ]
     },
     "execution_count": 12,
     "metadata": {},
     "output_type": "execute_result"
    }
   ],
   "source": [
    "results = collection.query(\n",
    "   query_texts = ['query is about india'],\n",
    "   n_results = 2\n",
    ")\n",
    "results    "
   ]
  },
  {
   "cell_type": "code",
   "execution_count": null,
   "id": "c337b282",
   "metadata": {},
   "outputs": [],
   "source": []
  }
 ],
 "metadata": {
  "kernelspec": {
   "display_name": "Python 3 (ipykernel)",
   "language": "python",
   "name": "python3"
  },
  "language_info": {
   "codemirror_mode": {
    "name": "ipython",
    "version": 3
   },
   "file_extension": ".py",
   "mimetype": "text/x-python",
   "name": "python",
   "nbconvert_exporter": "python",
   "pygments_lexer": "ipython3",
   "version": "3.9.7"
  }
 },
 "nbformat": 4,
 "nbformat_minor": 5
}
