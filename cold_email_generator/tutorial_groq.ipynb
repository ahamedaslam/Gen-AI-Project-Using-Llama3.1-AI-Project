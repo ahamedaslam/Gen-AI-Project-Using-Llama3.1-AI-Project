{
 "cells": [
  {
   "cell_type": "code",
   "execution_count": 2,
   "id": "725119a8",
   "metadata": {},
   "outputs": [
    {
     "name": "stdout",
     "output_type": "stream",
     "text": [
      "Requirement already satisfied: langchain-groq in c:\\users\\ahame\\anaconda3\\lib\\site-packages (0.2.0)\n",
      "Requirement already satisfied: langchain-core<0.4,>=0.3 in c:\\users\\ahame\\anaconda3\\lib\\site-packages (from langchain-groq) (0.3.6)\n",
      "Requirement already satisfied: groq<1,>=0.4.1 in c:\\users\\ahame\\anaconda3\\lib\\site-packages (from langchain-groq) (0.11.0)\n",
      "Requirement already satisfied: pydantic<3,>=1.9.0 in c:\\users\\ahame\\anaconda3\\lib\\site-packages (from groq<1,>=0.4.1->langchain-groq) (2.9.2)\n",
      "Requirement already satisfied: httpx<1,>=0.23.0 in c:\\users\\ahame\\anaconda3\\lib\\site-packages (from groq<1,>=0.4.1->langchain-groq) (0.27.2)\n",
      "Requirement already satisfied: anyio<5,>=3.5.0 in c:\\users\\ahame\\anaconda3\\lib\\site-packages (from groq<1,>=0.4.1->langchain-groq) (4.6.0)\n",
      "Requirement already satisfied: distro<2,>=1.7.0 in c:\\users\\ahame\\anaconda3\\lib\\site-packages (from groq<1,>=0.4.1->langchain-groq) (1.9.0)\n",
      "Requirement already satisfied: typing-extensions<5,>=4.7 in c:\\users\\ahame\\anaconda3\\lib\\site-packages (from groq<1,>=0.4.1->langchain-groq) (4.12.2)\n",
      "Requirement already satisfied: sniffio in c:\\users\\ahame\\anaconda3\\lib\\site-packages (from groq<1,>=0.4.1->langchain-groq) (1.2.0)\n",
      "Requirement already satisfied: idna>=2.8 in c:\\users\\ahame\\anaconda3\\lib\\site-packages (from anyio<5,>=3.5.0->groq<1,>=0.4.1->langchain-groq) (3.2)\n",
      "Requirement already satisfied: exceptiongroup>=1.0.2 in c:\\users\\ahame\\anaconda3\\lib\\site-packages (from anyio<5,>=3.5.0->groq<1,>=0.4.1->langchain-groq) (1.2.2)\n",
      "Requirement already satisfied: httpcore==1.* in c:\\users\\ahame\\anaconda3\\lib\\site-packages (from httpx<1,>=0.23.0->groq<1,>=0.4.1->langchain-groq) (1.0.5)\n",
      "Requirement already satisfied: certifi in c:\\users\\ahame\\anaconda3\\lib\\site-packages (from httpx<1,>=0.23.0->groq<1,>=0.4.1->langchain-groq) (2021.10.8)\n",
      "Requirement already satisfied: h11<0.15,>=0.13 in c:\\users\\ahame\\anaconda3\\lib\\site-packages (from httpcore==1.*->httpx<1,>=0.23.0->groq<1,>=0.4.1->langchain-groq) (0.14.0)\n",
      "Requirement already satisfied: jsonpatch<2.0,>=1.33 in c:\\users\\ahame\\anaconda3\\lib\\site-packages (from langchain-core<0.4,>=0.3->langchain-groq) (1.33)\n",
      "Requirement already satisfied: PyYAML>=5.3 in c:\\users\\ahame\\anaconda3\\lib\\site-packages (from langchain-core<0.4,>=0.3->langchain-groq) (6.0)\n",
      "Requirement already satisfied: packaging<25,>=23.2 in c:\\users\\ahame\\anaconda3\\lib\\site-packages (from langchain-core<0.4,>=0.3->langchain-groq) (24.1)\n",
      "Requirement already satisfied: tenacity!=8.4.0,<9.0.0,>=8.1.0 in c:\\users\\ahame\\anaconda3\\lib\\site-packages (from langchain-core<0.4,>=0.3->langchain-groq) (8.5.0)\n",
      "Requirement already satisfied: langsmith<0.2.0,>=0.1.125 in c:\\users\\ahame\\anaconda3\\lib\\site-packages (from langchain-core<0.4,>=0.3->langchain-groq) (0.1.129)\n",
      "Requirement already satisfied: jsonpointer>=1.9 in c:\\users\\ahame\\anaconda3\\lib\\site-packages (from jsonpatch<2.0,>=1.33->langchain-core<0.4,>=0.3->langchain-groq) (3.0.0)\n",
      "Requirement already satisfied: orjson<4.0.0,>=3.9.14 in c:\\users\\ahame\\anaconda3\\lib\\site-packages (from langsmith<0.2.0,>=0.1.125->langchain-core<0.4,>=0.3->langchain-groq) (3.10.7)\n",
      "Requirement already satisfied: requests<3,>=2 in c:\\users\\ahame\\anaconda3\\lib\\site-packages (from langsmith<0.2.0,>=0.1.125->langchain-core<0.4,>=0.3->langchain-groq) (2.26.0)\n",
      "Requirement already satisfied: annotated-types>=0.6.0 in c:\\users\\ahame\\anaconda3\\lib\\site-packages (from pydantic<3,>=1.9.0->groq<1,>=0.4.1->langchain-groq) (0.7.0)\n",
      "Requirement already satisfied: pydantic-core==2.23.4 in c:\\users\\ahame\\anaconda3\\lib\\site-packages (from pydantic<3,>=1.9.0->groq<1,>=0.4.1->langchain-groq) (2.23.4)\n",
      "Requirement already satisfied: charset-normalizer~=2.0.0 in c:\\users\\ahame\\anaconda3\\lib\\site-packages (from requests<3,>=2->langsmith<0.2.0,>=0.1.125->langchain-core<0.4,>=0.3->langchain-groq) (2.0.4)\n",
      "Requirement already satisfied: urllib3<1.27,>=1.21.1 in c:\\users\\ahame\\anaconda3\\lib\\site-packages (from requests<3,>=2->langsmith<0.2.0,>=0.1.125->langchain-core<0.4,>=0.3->langchain-groq) (1.26.7)\n",
      "Note: you may need to restart the kernel to use updated packages.\n"
     ]
    }
   ],
   "source": [
    "pip install langchain-groq\n"
   ]
  },
  {
   "cell_type": "code",
   "execution_count": 3,
   "id": "ae498680",
   "metadata": {},
   "outputs": [
    {
     "name": "stdout",
     "output_type": "stream",
     "text": [
      "I can be a powerful tool in the right hands. Here are some examples of what I can do:\n",
      "\n",
      "1. **Answer questions**: I can process natural language queries and provide relevant answers, covering a wide range of topics from science and history to entertainment and culture.\n",
      "2. **Generate text**: I can create human-like text based on a prompt, topic, or style. This can be useful for writing articles, creating chatbot responses, or even composing emails.\n",
      "3. **Translate languages**: I can translate text from one language to another, including popular languages such as Spanish, French, German, Chinese, and many more.\n",
      "4. **Summarize content**: I can summarize long pieces of text into concise, bite-sized versions, highlighting key points and main ideas.\n",
      "5. **Offer suggestions**: I can suggest potential solutions to problems, offer ideas for creative projects, or even provide gift ideas based on interests and preferences.\n",
      "6. **Chat and converse**: I can engage in natural-sounding conversations, using context and understanding to respond to questions and statements.\n",
      "7. **Play games**: I can play simple text-based games, such as Hangman, 20 Questions, or Word Jumble.\n",
      "8. **Provide definitions**: I can define words and phrases, explaining their meanings and usage.\n",
      "9. **Generate creative content**: I can create poetry, short stories, or even entire scripts based on prompts or ideas.\n",
      "10. **Learn and improve**: I can learn from feedback and adapt to new topics and tasks over time, improving my performance and accuracy.\n",
      "\n",
      "However, my power has limitations. I'm a machine learning model, and while I can process vast amounts of information, I'm not perfect. Here are some areas where I may struggle:\n",
      "\n",
      "1. **Common sense**: While I can understand natural language, I may not always have the same level of common sense or real-world experience as a human.\n",
      "2. **Emotional intelligence**: I'm not capable of experiencing emotions or empathy, which can limit my ability to understand and respond to emotional or sensitive topics.\n",
      "3. **Domain-specific expertise**: While I can provide general information on a wide range of topics, I may not have the same level of expertise as a specialist in a particular field.\n",
      "4. **Handling ambiguity**: I can struggle with ambiguous or unclear language, which can lead to confusion or misinterpretation.\n",
      "5. **Dealing with sarcasm and humor**: I can have difficulty understanding sarcasm, humor, or other forms of subtle language, which can lead to misinterpretation or confusion.\n",
      "\n",
      "Overall, I'm a powerful tool that can provide valuable assistance and insights, but I'm not a replacement for human judgment, expertise, or emotional intelligence.\n"
     ]
    }
   ],
   "source": [
    "from langchain_groq import ChatGroq\n",
    "\n",
    "llm = ChatGroq(\n",
    "    temperature=0,\n",
    "    model_name=\"llama-3.1-70b-versatile\",\n",
    "    api_key=\"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\"  # Pass api_key directly\n",
    ")\n",
    "response = llm.invoke(\"how powerful are u?\")\n",
    "print(response.content)\n"
   ]
  },
  {
   "cell_type": "code",
   "execution_count": null,
   "id": "6d6c6ad2",
   "metadata": {},
   "outputs": [],
   "source": [
    "pip install chromadb\n"
   ]
  },
  {
   "cell_type": "code",
   "execution_count": null,
   "id": "f992fc46",
   "metadata": {},
   "outputs": [],
   "source": []
  }
 ],
 "metadata": {
  "kernelspec": {
   "display_name": "Python 3 (ipykernel)",
   "language": "python",
   "name": "python3"
  },
  "language_info": {
   "codemirror_mode": {
    "name": "ipython",
    "version": 3
   },
   "file_extension": ".py",
   "mimetype": "text/x-python",
   "name": "python",
   "nbconvert_exporter": "python",
   "pygments_lexer": "ipython3",
   "version": "3.9.7"
  }
 },
 "nbformat": 4,
 "nbformat_minor": 5
}
